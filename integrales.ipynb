{
 "cells": [
  {
   "cell_type": "code",
   "execution_count": null,
   "metadata": {},
   "outputs": [],
   "source": [
    "from sympy import symbols, integrate, simplify\n",
    "\n",
    "def resolver_integral():\n",
    "    # Pedir al usuario que ingrese la función\n",
    "    expresion = input(\"Ingresa la función a integrar en términos de x: \")\n",
    "\n",
    "    # Definir la variable simbólica\n",
    "    x = symbols('x')\n",
    "\n",
    "    try:\n",
    "        # Convertir la entrada del usuario en una expresión simbólica\n",
    "        funcion = simplify(expresion)\n",
    "\n",
    "        # Pedir al usuario que ingrese los límites de integración\n",
    "        a = float(input(\"Ingresa el límite inferior de integración (a): \"))\n",
    "        b = float(input(\"Ingresa el límite superior de integración (b): \"))\n",
    "\n",
    "        # Calcular la integral definida\n",
    "        resultado = integrate(funcion, (x, a, b))\n",
    "\n",
    "        # Mostrar el resultado\n",
    "        print(\"Resultado de la integral definida en [\", a, \",\", b, \"]:\", resultado)\n",
    "\n",
    "    except Exception as e:\n",
    "        print(\"Error:\", e)\n",
    "\n",
    "if __name__ == \"__main__\":\n",
    "    resolver_integral()"
   ]
  }
 ],
 "metadata": {
  "kernelspec": {
   "display_name": "base",
   "language": "python",
   "name": "python3"
  },
  "language_info": {
   "name": "python",
   "version": "3.11.4"
  }
 },
 "nbformat": 4,
 "nbformat_minor": 2
}
